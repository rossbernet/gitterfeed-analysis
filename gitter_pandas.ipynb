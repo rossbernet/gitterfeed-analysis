{
 "cells": [
  {
   "cell_type": "code",
   "execution_count": 59,
   "metadata": {
    "collapsed": false
   },
   "outputs": [],
   "source": [
    "from datetime import datetime, timedelta\n",
    "import pandas as pd\n",
    "import numpy as np\n",
    "import matplotlib.pyplot as plt\n",
    "%matplotlib inline\n",
    "df = pd.read_csv('gitter_pandas.csv')\n",
    "df.head()\n",
    "count = df.groupby('user').count()\n",
    "test = count.sort_values(['count'], ascending=[False])\n",
    "test\n",
    "test.to_csv('count.csv', sep='\\t')"
   ]
  },
  {
   "cell_type": "code",
   "execution_count": 60,
   "metadata": {
    "collapsed": false
   },
   "outputs": [],
   "source": [
    "df['date'] = pd.to_datetime(df['date'], format='%m/%d/%y')"
   ]
  },
  {
   "cell_type": "code",
   "execution_count": 61,
   "metadata": {
    "collapsed": false
   },
   "outputs": [
    {
     "data": {
      "text/plain": [
       "Index([u'user', u'text', u'date', u'count'], dtype='object')"
      ]
     },
     "execution_count": 61,
     "metadata": {},
     "output_type": "execute_result"
    }
   ],
   "source": [
    "df.columns\n"
   ]
  },
  {
   "cell_type": "code",
   "execution_count": 62,
   "metadata": {
    "collapsed": false
   },
   "outputs": [],
   "source": [
    "df.set_index(['user', 'date'], inplace=True)"
   ]
  },
  {
   "cell_type": "code",
   "execution_count": 63,
   "metadata": {
    "collapsed": false
   },
   "outputs": [],
   "source": [
    "idx = pd.IndexSlice"
   ]
  },
  {
   "cell_type": "code",
   "execution_count": 64,
   "metadata": {
    "collapsed": false
   },
   "outputs": [
    {
     "data": {
      "text/html": [
       "<div>\n",
       "<table border=\"1\" class=\"dataframe\">\n",
       "  <thead>\n",
       "    <tr style=\"text-align: right;\">\n",
       "      <th></th>\n",
       "      <th></th>\n",
       "      <th>text</th>\n",
       "      <th>count</th>\n",
       "    </tr>\n",
       "    <tr>\n",
       "      <th>user</th>\n",
       "      <th>date</th>\n",
       "      <th></th>\n",
       "      <th></th>\n",
       "    </tr>\n",
       "  </thead>\n",
       "  <tbody>\n",
       "    <tr>\n",
       "      <th>lossyrob</th>\n",
       "      <th>2015-03-31</th>\n",
       "      <td>Hey everyone. Welcome to the GeoTrellis room!</td>\n",
       "      <td>1</td>\n",
       "    </tr>\n",
       "    <tr>\n",
       "      <th rowspan=\"2\" valign=\"top\">non</th>\n",
       "      <th>2015-03-31</th>\n",
       "      <td>hello!</td>\n",
       "      <td>1</td>\n",
       "    </tr>\n",
       "    <tr>\n",
       "      <th>2015-03-31</th>\n",
       "      <td>(and goodbye -- it is quitting time now)</td>\n",
       "      <td>1</td>\n",
       "    </tr>\n",
       "    <tr>\n",
       "      <th rowspan=\"2\" valign=\"top\">lossyrob</th>\n",
       "      <th>2015-03-31</th>\n",
       "      <td>adios!</td>\n",
       "      <td>1</td>\n",
       "    </tr>\n",
       "    <tr>\n",
       "      <th>2015-03-31</th>\n",
       "      <td>@non btw did you get my email? I heard your co...</td>\n",
       "      <td>1</td>\n",
       "    </tr>\n",
       "  </tbody>\n",
       "</table>\n",
       "</div>"
      ],
      "text/plain": [
       "                                                                  text  count\n",
       "user     date                                                                \n",
       "lossyrob 2015-03-31      Hey everyone. Welcome to the GeoTrellis room!      1\n",
       "non      2015-03-31                                             hello!      1\n",
       "         2015-03-31           (and goodbye -- it is quitting time now)      1\n",
       "lossyrob 2015-03-31                                             adios!      1\n",
       "         2015-03-31  @non btw did you get my email? I heard your co...      1"
      ]
     },
     "execution_count": 64,
     "metadata": {},
     "output_type": "execute_result"
    }
   ],
   "source": [
    "df.head()"
   ]
  },
  {
   "cell_type": "code",
   "execution_count": 65,
   "metadata": {
    "collapsed": false,
    "scrolled": true
   },
   "outputs": [
    {
     "data": {
      "text/plain": [
       "user      date      \n",
       "lossyrob  2015-03-31        Hey everyone. Welcome to the GeoTrellis room!\n",
       "          2015-03-31                                               adios!\n",
       "          2015-03-31    @non btw did you get my email? I heard your co...\n",
       "          2015-03-31                                               hahaha\n",
       "          2015-04-01    @echeipesh was there anything in that Catalog ...\n",
       "          2015-04-01             What was that refactor plan about again?\n",
       "          2015-04-01    Also, I can_��t name things. Catalog is really...\n",
       "          2015-04-01                                Reader/Writer traits.\n",
       "          2015-04-01                              Store/ReadOnlyStore ick\n",
       "          2015-04-01                                                right\n",
       "          2015-04-01    yeah that makes sense to just throw it out the...\n",
       "          2015-04-01                                                 nice\n",
       "          2015-04-01    Basically a function that calls load(layerId: ...\n",
       "          2015-04-01    and perhaps a load(key: K): Tile for some Tile...\n",
       "          2015-04-01    (which still not sure if we will support in HDFS)\n",
       "          2015-04-01    do you think S3 would be fine for supporting t...\n",
       "          2015-04-01    the other capability is to load off of a filte...\n",
       "          2015-04-01    or like, you can create just a straight up loa...\n",
       "          2015-04-01    still trying to figure out if that looks ok in...\n",
       "          2015-04-01                                                  ```\n",
       "          2015-04-01                                                 woot\n",
       "          2015-04-01                                       ```\\rwoot\\r```\n",
       "          2015-04-01          Trying to see how this markdown thing works\n",
       "          2015-04-01                      ```\\rThis is code and such\\r```\n",
       "          2015-04-01    ![sfcurve-space-diagram](https://cloud.githubu...\n",
       "          2015-04-01                                                 nice\n",
       "          2015-04-01                          can_��t do that on freenode\n",
       "          2015-04-01                           oh I didn_��t realize that\n",
       "          2015-04-01    nice. so now I can tell who_��s reading my non...\n",
       "          2015-04-01    yeah now I can_��t pretend that I haven_��t re...\n",
       "                                              ...                        \n",
       "non       2015-04-16        so you have `I { (x, y, z) => ... }` working?\n",
       "          2015-04-16                                               great.\n",
       "          2015-04-16    do you have any remaining issues? seems like y...\n",
       "          2015-04-16    ok so -- i will try to do a more detailed revi...\n",
       "          2015-04-16       at least once you have that `InlineUtil` stuff\n",
       "          2015-04-16                         no i think that should be ok\n",
       "          2015-04-16    so -- here is what i will say -- i think that ...\n",
       "          2015-04-16    i don't hit those -- and i'm not sure how you ...\n",
       "          2015-04-16    one thing i was thinking of doing was publishi...\n",
       "          2015-04-16                          that supports 2.10 and 2.11\n",
       "          2015-04-16    that way spire, geotrellis, and anyone else do...\n",
       "          2015-04-16                                              gotcha.\n",
       "          2015-04-16             yeah that's a fine solution for now too.\n",
       "          2015-04-16    but eventually it might be nice to split it ou...\n",
       "          2015-04-16                                              thanks!\n",
       "          2015-04-16                                         good job! :)\n",
       "          2015-04-16    (and i will try to take a more detailed look. ...\n",
       "          2015-04-16               no -- the inlining stuff is different.\n",
       "          2015-04-16    you only need machinist if you are doing the s...\n",
       "          2015-04-16    that's something i'd expect scalaz to use, but...\n",
       "          2015-04-16               (for example, cats is using machinist)\n",
       "          2015-04-16                                                great\n",
       "          2015-04-16              you're very welcome! glad it worked out\n",
       "          2015-04-17                      @joshmarcus http://snapsat.org/\n",
       "          2015-04-17    yeah i was thinking it's the sort of thing tha...\n",
       "          2015-04-17                                                   :)\n",
       "          2015-04-17                     is geotrellis using a SNAPSHOT ?\n",
       "          2015-04-17    hm. i have a lot of other projects using that ...\n",
       "          2015-04-17    @echeipesh so -- i'm not sure why it happens b...\n",
       "          2015-04-20                                              nice :)\n",
       "Name: text, dtype: object"
      ]
     },
     "execution_count": 65,
     "metadata": {},
     "output_type": "execute_result"
    }
   ],
   "source": [
    "df.sort_index(inplace=True) # sort the dataframe by its indices\n",
    "df.loc[idx[['lossyrob', 'non'], datetime(2015, 3, 31):datetime(2015,4,28)], 'text']"
   ]
  },
  {
   "cell_type": "markdown",
   "metadata": {},
   "source": [
    "## Getting values from multiindices"
   ]
  },
  {
   "cell_type": "code",
   "execution_count": 66,
   "metadata": {
    "collapsed": false
   },
   "outputs": [],
   "source": [
    "users = df.index.get_level_values('user').unique()"
   ]
  },
  {
   "cell_type": "code",
   "execution_count": 76,
   "metadata": {
    "collapsed": false
   },
   "outputs": [],
   "source": [
    "rob = df.loc['lossyrob'].resample('D').size() # we can drop the users level with access by .loc and a username\n",
    "# rob"
   ]
  },
  {
   "cell_type": "code",
   "execution_count": 77,
   "metadata": {
    "collapsed": false
   },
   "outputs": [
    {
     "data": {
      "text/plain": [
       "<matplotlib.axes._subplots.AxesSubplot at 0x10881d790>"
      ]
     },
     "execution_count": 77,
     "metadata": {},
     "output_type": "execute_result"
    },
    {
     "data": {
      "image/png": "[encoded data removed]",
      "text/plain": [
       "<matplotlib.figure.Figure at 0x10a0d9210>"
      ]
     },
     "metadata": {},
     "output_type": "display_data"
    }
   ],
   "source": [
    "rob.plot()"
   ]
  },
  {
   "cell_type": "code",
   "execution_count": 12,
   "metadata": {
    "collapsed": false
   },
   "outputs": [],
   "source": [
    "# df.groupby(level='user').plot() # doesn't work -- graphics get mad so jupyter won't let you"
   ]
  },
  {
   "cell_type": "code",
   "execution_count": 78,
   "metadata": {
    "collapsed": false
   },
   "outputs": [
    {
     "data": {
      "text/plain": [
       "<matplotlib.axes._subplots.AxesSubplot at 0x108cce150>"
      ]
     },
     "execution_count": 78,
     "metadata": {},
     "output_type": "execute_result"
    },
    {
     "data": {
      "image/png": "[encoded data removed]",
      "text/plain": [
       "<matplotlib.figure.Figure at 0x109e31810>"
      ]
     },
     "metadata": {},
     "output_type": "display_data"
    }
   ],
   "source": [
    "fig, ax = plt.subplots() # creates a canvas and an axis on that canvas to draw onto\n",
    "for user in users:\n",
    "    if user not in ['lossyrob', 'pomadchin']:\n",
    "        df.loc[user].resample('1W').size().plot(ax=ax, alpha=0.3, legend=False)\n",
    "ax"
   ]
  },
  {
   "cell_type": "code",
   "execution_count": 79,
   "metadata": {
    "collapsed": false
   },
   "outputs": [
    {
     "data": {
      "text/plain": [
       "Index([u'ASellers', u'Charmatzis', u'DarkManiel', u'Elbehery', u'Leme2014',\n",
       "       u'Leonhalt3141', u'Manuri', u'MichiB7_twitter', u'Prasannads',\n",
       "       u'Ronald33',\n",
       "       ...\n",
       "       u'vsimko', u'walleyyang', u'willtemperley', u'wsf1990',\n",
       "       u'xarmatzis_twitter', u'zaikin', u'zainab-ali', u'zakipatel',\n",
       "       u'zeitalexgithub', u'zifeo'],\n",
       "      dtype='object', name=u'user', length=154)"
      ]
     },
     "execution_count": 79,
     "metadata": {},
     "output_type": "execute_result"
    }
   ],
   "source": [
    "users"
   ]
  },
  {
   "cell_type": "code",
   "execution_count": null,
   "metadata": {
    "collapsed": true
   },
   "outputs": [],
   "source": []
  },
  {
   "cell_type": "code",
   "execution_count": 80,
   "metadata": {
    "collapsed": false
   },
   "outputs": [
    {
     "data": {
      "text/html": [
       "<div>\n",
       "<table border=\"1\" class=\"dataframe\">\n",
       "  <thead>\n",
       "    <tr style=\"text-align: right;\">\n",
       "      <th></th>\n",
       "      <th></th>\n",
       "      <th>text</th>\n",
       "      <th>count</th>\n",
       "    </tr>\n",
       "    <tr>\n",
       "      <th>user</th>\n",
       "      <th>date</th>\n",
       "      <th></th>\n",
       "      <th></th>\n",
       "    </tr>\n",
       "  </thead>\n",
       "  <tbody>\n",
       "    <tr>\n",
       "      <th rowspan=\"5\" valign=\"top\">zifeo</th>\n",
       "      <th>2015-08-14</th>\n",
       "      <td>Failed tests are: `geotrellis.spark.io.accumul...</td>\n",
       "      <td>1</td>\n",
       "    </tr>\n",
       "    <tr>\n",
       "      <th>2015-08-14</th>\n",
       "      <td>I guess that hadoop is because I didn_��t chan...</td>\n",
       "      <td>1</td>\n",
       "    </tr>\n",
       "    <tr>\n",
       "      <th>2015-08-14</th>\n",
       "      <td>Sorry, it is the inverse. Index out of bounds ...</td>\n",
       "      <td>1</td>\n",
       "    </tr>\n",
       "    <tr>\n",
       "      <th>2015-08-15</th>\n",
       "      <td>thanks! I will finish tomorrow</td>\n",
       "      <td>1</td>\n",
       "    </tr>\n",
       "    <tr>\n",
       "      <th>2015-08-17</th>\n",
       "      <td>@echeipesh do you have any ETL example of accu...</td>\n",
       "      <td>1</td>\n",
       "    </tr>\n",
       "  </tbody>\n",
       "</table>\n",
       "</div>"
      ],
      "text/plain": [
       "                                                               text  count\n",
       "user  date                                                                \n",
       "zifeo 2015-08-14  Failed tests are: `geotrellis.spark.io.accumul...      1\n",
       "      2015-08-14  I guess that hadoop is because I didn_��t chan...      1\n",
       "      2015-08-14  Sorry, it is the inverse. Index out of bounds ...      1\n",
       "      2015-08-15                     thanks! I will finish tomorrow      1\n",
       "      2015-08-17  @echeipesh do you have any ETL example of accu...      1"
      ]
     },
     "execution_count": 80,
     "metadata": {},
     "output_type": "execute_result"
    }
   ],
   "source": [
    "df.tail()"
   ]
  },
  {
   "cell_type": "code",
   "execution_count": 81,
   "metadata": {
    "collapsed": false
   },
   "outputs": [
    {
     "data": {
      "text/plain": [
       "pandas.core.frame.DataFrame"
      ]
     },
     "execution_count": 81,
     "metadata": {},
     "output_type": "execute_result"
    }
   ],
   "source": [
    "type(df)\n"
   ]
  },
  {
   "cell_type": "code",
   "execution_count": 82,
   "metadata": {
    "collapsed": false
   },
   "outputs": [
    {
     "ename": "KeyError",
     "evalue": "'date'",
     "output_type": "error",
     "traceback": [
      "\u001b[0;31m---------------------------------------------------------------------------\u001b[0m",
      "\u001b[0;31mKeyError\u001b[0m                                  Traceback (most recent call last)",
      "\u001b[0;32m<ipython-input-82-44a9dfddfd34>\u001b[0m in \u001b[0;36m<module>\u001b[0;34m()\u001b[0m\n\u001b[0;32m----> 1\u001b[0;31m \u001b[0mdf\u001b[0m \u001b[0;34m=\u001b[0m \u001b[0mdf\u001b[0m\u001b[0;34m.\u001b[0m\u001b[0mset_index\u001b[0m\u001b[0;34m(\u001b[0m\u001b[0;34m'date'\u001b[0m\u001b[0;34m)\u001b[0m\u001b[0;34m\u001b[0m\u001b[0m\n\u001b[0m\u001b[1;32m      2\u001b[0m \u001b[0mmonth_plot\u001b[0m \u001b[0;34m=\u001b[0m \u001b[0mdf\u001b[0m\u001b[0;34m.\u001b[0m\u001b[0mresample\u001b[0m\u001b[0;34m(\u001b[0m\u001b[0;34m'd'\u001b[0m\u001b[0;34m,\u001b[0m \u001b[0mhow\u001b[0m\u001b[0;34m=\u001b[0m\u001b[0msum\u001b[0m\u001b[0;34m)\u001b[0m\u001b[0;34m.\u001b[0m\u001b[0mplot\u001b[0m\u001b[0;34m(\u001b[0m\u001b[0;34m)\u001b[0m\u001b[0;34m\u001b[0m\u001b[0m\n\u001b[1;32m      3\u001b[0m \u001b[0;31m# fig = month_plot.get_figure()\u001b[0m\u001b[0;34m\u001b[0m\u001b[0;34m\u001b[0m\u001b[0m\n\u001b[1;32m      4\u001b[0m \u001b[0mplt\u001b[0m\u001b[0;34m.\u001b[0m\u001b[0mshow\u001b[0m\u001b[0;34m(\u001b[0m\u001b[0;34m)\u001b[0m\u001b[0;34m\u001b[0m\u001b[0m\n",
      "\u001b[0;32m/usr/local/lib/python2.7/site-packages/pandas/core/frame.pyc\u001b[0m in \u001b[0;36mset_index\u001b[0;34m(self, keys, drop, append, inplace, verify_integrity)\u001b[0m\n\u001b[1;32m   2915\u001b[0m                 \u001b[0mnames\u001b[0m\u001b[0;34m.\u001b[0m\u001b[0mappend\u001b[0m\u001b[0;34m(\u001b[0m\u001b[0mNone\u001b[0m\u001b[0;34m)\u001b[0m\u001b[0;34m\u001b[0m\u001b[0m\n\u001b[1;32m   2916\u001b[0m             \u001b[0;32melse\u001b[0m\u001b[0;34m:\u001b[0m\u001b[0;34m\u001b[0m\u001b[0m\n\u001b[0;32m-> 2917\u001b[0;31m                 \u001b[0mlevel\u001b[0m \u001b[0;34m=\u001b[0m \u001b[0mframe\u001b[0m\u001b[0;34m[\u001b[0m\u001b[0mcol\u001b[0m\u001b[0;34m]\u001b[0m\u001b[0;34m.\u001b[0m\u001b[0m_values\u001b[0m\u001b[0;34m\u001b[0m\u001b[0m\n\u001b[0m\u001b[1;32m   2918\u001b[0m                 \u001b[0mnames\u001b[0m\u001b[0;34m.\u001b[0m\u001b[0mappend\u001b[0m\u001b[0;34m(\u001b[0m\u001b[0mcol\u001b[0m\u001b[0;34m)\u001b[0m\u001b[0;34m\u001b[0m\u001b[0m\n\u001b[1;32m   2919\u001b[0m                 \u001b[0;32mif\u001b[0m \u001b[0mdrop\u001b[0m\u001b[0;34m:\u001b[0m\u001b[0;34m\u001b[0m\u001b[0m\n",
      "\u001b[0;32m/usr/local/lib/python2.7/site-packages/pandas/core/frame.pyc\u001b[0m in \u001b[0;36m__getitem__\u001b[0;34m(self, key)\u001b[0m\n\u001b[1;32m   2057\u001b[0m             \u001b[0;32mreturn\u001b[0m \u001b[0mself\u001b[0m\u001b[0;34m.\u001b[0m\u001b[0m_getitem_multilevel\u001b[0m\u001b[0;34m(\u001b[0m\u001b[0mkey\u001b[0m\u001b[0;34m)\u001b[0m\u001b[0;34m\u001b[0m\u001b[0m\n\u001b[1;32m   2058\u001b[0m         \u001b[0;32melse\u001b[0m\u001b[0;34m:\u001b[0m\u001b[0;34m\u001b[0m\u001b[0m\n\u001b[0;32m-> 2059\u001b[0;31m             \u001b[0;32mreturn\u001b[0m \u001b[0mself\u001b[0m\u001b[0;34m.\u001b[0m\u001b[0m_getitem_column\u001b[0m\u001b[0;34m(\u001b[0m\u001b[0mkey\u001b[0m\u001b[0;34m)\u001b[0m\u001b[0;34m\u001b[0m\u001b[0m\n\u001b[0m\u001b[1;32m   2060\u001b[0m \u001b[0;34m\u001b[0m\u001b[0m\n\u001b[1;32m   2061\u001b[0m     \u001b[0;32mdef\u001b[0m \u001b[0m_getitem_column\u001b[0m\u001b[0;34m(\u001b[0m\u001b[0mself\u001b[0m\u001b[0;34m,\u001b[0m \u001b[0mkey\u001b[0m\u001b[0;34m)\u001b[0m\u001b[0;34m:\u001b[0m\u001b[0;34m\u001b[0m\u001b[0m\n",
      "\u001b[0;32m/usr/local/lib/python2.7/site-packages/pandas/core/frame.pyc\u001b[0m in \u001b[0;36m_getitem_column\u001b[0;34m(self, key)\u001b[0m\n\u001b[1;32m   2064\u001b[0m         \u001b[0;31m# get column\u001b[0m\u001b[0;34m\u001b[0m\u001b[0;34m\u001b[0m\u001b[0m\n\u001b[1;32m   2065\u001b[0m         \u001b[0;32mif\u001b[0m \u001b[0mself\u001b[0m\u001b[0;34m.\u001b[0m\u001b[0mcolumns\u001b[0m\u001b[0;34m.\u001b[0m\u001b[0mis_unique\u001b[0m\u001b[0;34m:\u001b[0m\u001b[0;34m\u001b[0m\u001b[0m\n\u001b[0;32m-> 2066\u001b[0;31m             \u001b[0;32mreturn\u001b[0m \u001b[0mself\u001b[0m\u001b[0;34m.\u001b[0m\u001b[0m_get_item_cache\u001b[0m\u001b[0;34m(\u001b[0m\u001b[0mkey\u001b[0m\u001b[0;34m)\u001b[0m\u001b[0;34m\u001b[0m\u001b[0m\n\u001b[0m\u001b[1;32m   2067\u001b[0m \u001b[0;34m\u001b[0m\u001b[0m\n\u001b[1;32m   2068\u001b[0m         \u001b[0;31m# duplicate columns & possible reduce dimensionality\u001b[0m\u001b[0;34m\u001b[0m\u001b[0;34m\u001b[0m\u001b[0m\n",
      "\u001b[0;32m/usr/local/lib/python2.7/site-packages/pandas/core/generic.pyc\u001b[0m in \u001b[0;36m_get_item_cache\u001b[0;34m(self, item)\u001b[0m\n\u001b[1;32m   1384\u001b[0m         \u001b[0mres\u001b[0m \u001b[0;34m=\u001b[0m \u001b[0mcache\u001b[0m\u001b[0;34m.\u001b[0m\u001b[0mget\u001b[0m\u001b[0;34m(\u001b[0m\u001b[0mitem\u001b[0m\u001b[0;34m)\u001b[0m\u001b[0;34m\u001b[0m\u001b[0m\n\u001b[1;32m   1385\u001b[0m         \u001b[0;32mif\u001b[0m \u001b[0mres\u001b[0m \u001b[0;32mis\u001b[0m \u001b[0mNone\u001b[0m\u001b[0;34m:\u001b[0m\u001b[0;34m\u001b[0m\u001b[0m\n\u001b[0;32m-> 1386\u001b[0;31m             \u001b[0mvalues\u001b[0m \u001b[0;34m=\u001b[0m \u001b[0mself\u001b[0m\u001b[0;34m.\u001b[0m\u001b[0m_data\u001b[0m\u001b[0;34m.\u001b[0m\u001b[0mget\u001b[0m\u001b[0;34m(\u001b[0m\u001b[0mitem\u001b[0m\u001b[0;34m)\u001b[0m\u001b[0;34m\u001b[0m\u001b[0m\n\u001b[0m\u001b[1;32m   1387\u001b[0m             \u001b[0mres\u001b[0m \u001b[0;34m=\u001b[0m \u001b[0mself\u001b[0m\u001b[0;34m.\u001b[0m\u001b[0m_box_item_values\u001b[0m\u001b[0;34m(\u001b[0m\u001b[0mitem\u001b[0m\u001b[0;34m,\u001b[0m \u001b[0mvalues\u001b[0m\u001b[0;34m)\u001b[0m\u001b[0;34m\u001b[0m\u001b[0m\n\u001b[1;32m   1388\u001b[0m             \u001b[0mcache\u001b[0m\u001b[0;34m[\u001b[0m\u001b[0mitem\u001b[0m\u001b[0;34m]\u001b[0m \u001b[0;34m=\u001b[0m \u001b[0mres\u001b[0m\u001b[0;34m\u001b[0m\u001b[0m\n",
      "\u001b[0;32m/usr/local/lib/python2.7/site-packages/pandas/core/internals.pyc\u001b[0m in \u001b[0;36mget\u001b[0;34m(self, item, fastpath)\u001b[0m\n\u001b[1;32m   3541\u001b[0m \u001b[0;34m\u001b[0m\u001b[0m\n\u001b[1;32m   3542\u001b[0m             \u001b[0;32mif\u001b[0m \u001b[0;32mnot\u001b[0m \u001b[0misnull\u001b[0m\u001b[0;34m(\u001b[0m\u001b[0mitem\u001b[0m\u001b[0;34m)\u001b[0m\u001b[0;34m:\u001b[0m\u001b[0;34m\u001b[0m\u001b[0m\n\u001b[0;32m-> 3543\u001b[0;31m                 \u001b[0mloc\u001b[0m \u001b[0;34m=\u001b[0m \u001b[0mself\u001b[0m\u001b[0;34m.\u001b[0m\u001b[0mitems\u001b[0m\u001b[0;34m.\u001b[0m\u001b[0mget_loc\u001b[0m\u001b[0;34m(\u001b[0m\u001b[0mitem\u001b[0m\u001b[0;34m)\u001b[0m\u001b[0;34m\u001b[0m\u001b[0m\n\u001b[0m\u001b[1;32m   3544\u001b[0m             \u001b[0;32melse\u001b[0m\u001b[0;34m:\u001b[0m\u001b[0;34m\u001b[0m\u001b[0m\n\u001b[1;32m   3545\u001b[0m                 \u001b[0mindexer\u001b[0m \u001b[0;34m=\u001b[0m \u001b[0mnp\u001b[0m\u001b[0;34m.\u001b[0m\u001b[0marange\u001b[0m\u001b[0;34m(\u001b[0m\u001b[0mlen\u001b[0m\u001b[0;34m(\u001b[0m\u001b[0mself\u001b[0m\u001b[0;34m.\u001b[0m\u001b[0mitems\u001b[0m\u001b[0;34m)\u001b[0m\u001b[0;34m)\u001b[0m\u001b[0;34m[\u001b[0m\u001b[0misnull\u001b[0m\u001b[0;34m(\u001b[0m\u001b[0mself\u001b[0m\u001b[0;34m.\u001b[0m\u001b[0mitems\u001b[0m\u001b[0;34m)\u001b[0m\u001b[0;34m]\u001b[0m\u001b[0;34m\u001b[0m\u001b[0m\n",
      "\u001b[0;32m/usr/local/lib/python2.7/site-packages/pandas/indexes/base.pyc\u001b[0m in \u001b[0;36mget_loc\u001b[0;34m(self, key, method, tolerance)\u001b[0m\n\u001b[1;32m   2134\u001b[0m                 \u001b[0;32mreturn\u001b[0m \u001b[0mself\u001b[0m\u001b[0;34m.\u001b[0m\u001b[0m_engine\u001b[0m\u001b[0;34m.\u001b[0m\u001b[0mget_loc\u001b[0m\u001b[0;34m(\u001b[0m\u001b[0mkey\u001b[0m\u001b[0;34m)\u001b[0m\u001b[0;34m\u001b[0m\u001b[0m\n\u001b[1;32m   2135\u001b[0m             \u001b[0;32mexcept\u001b[0m \u001b[0mKeyError\u001b[0m\u001b[0;34m:\u001b[0m\u001b[0;34m\u001b[0m\u001b[0m\n\u001b[0;32m-> 2136\u001b[0;31m                 \u001b[0;32mreturn\u001b[0m \u001b[0mself\u001b[0m\u001b[0;34m.\u001b[0m\u001b[0m_engine\u001b[0m\u001b[0;34m.\u001b[0m\u001b[0mget_loc\u001b[0m\u001b[0;34m(\u001b[0m\u001b[0mself\u001b[0m\u001b[0;34m.\u001b[0m\u001b[0m_maybe_cast_indexer\u001b[0m\u001b[0;34m(\u001b[0m\u001b[0mkey\u001b[0m\u001b[0;34m)\u001b[0m\u001b[0;34m)\u001b[0m\u001b[0;34m\u001b[0m\u001b[0m\n\u001b[0m\u001b[1;32m   2137\u001b[0m \u001b[0;34m\u001b[0m\u001b[0m\n\u001b[1;32m   2138\u001b[0m         \u001b[0mindexer\u001b[0m \u001b[0;34m=\u001b[0m \u001b[0mself\u001b[0m\u001b[0;34m.\u001b[0m\u001b[0mget_indexer\u001b[0m\u001b[0;34m(\u001b[0m\u001b[0;34m[\u001b[0m\u001b[0mkey\u001b[0m\u001b[0;34m]\u001b[0m\u001b[0;34m,\u001b[0m \u001b[0mmethod\u001b[0m\u001b[0;34m=\u001b[0m\u001b[0mmethod\u001b[0m\u001b[0;34m,\u001b[0m \u001b[0mtolerance\u001b[0m\u001b[0;34m=\u001b[0m\u001b[0mtolerance\u001b[0m\u001b[0;34m)\u001b[0m\u001b[0;34m\u001b[0m\u001b[0m\n",
      "\u001b[0;32mpandas/index.pyx\u001b[0m in \u001b[0;36mpandas.index.IndexEngine.get_loc (pandas/index.c:4433)\u001b[0;34m()\u001b[0m\n",
      "\u001b[0;32mpandas/index.pyx\u001b[0m in \u001b[0;36mpandas.index.IndexEngine.get_loc (pandas/index.c:4279)\u001b[0;34m()\u001b[0m\n",
      "\u001b[0;32mpandas/src/hashtable_class_helper.pxi\u001b[0m in \u001b[0;36mpandas.hashtable.PyObjectHashTable.get_item (pandas/hashtable.c:13742)\u001b[0;34m()\u001b[0m\n",
      "\u001b[0;32mpandas/src/hashtable_class_helper.pxi\u001b[0m in \u001b[0;36mpandas.hashtable.PyObjectHashTable.get_item (pandas/hashtable.c:13696)\u001b[0;34m()\u001b[0m\n",
      "\u001b[0;31mKeyError\u001b[0m: 'date'"
     ]
    }
   ],
   "source": [
    "df = df.set_index('date')\n",
    "month_plot = df.resample('d', how=sum).plot()\n",
    "# fig = month_plot.get_figure()\n",
    "plt.show()"
   ]
  },
  {
   "cell_type": "code",
   "execution_count": 83,
   "metadata": {
    "collapsed": true
   },
   "outputs": [],
   "source": [
    "plt.close()"
   ]
  },
  {
   "cell_type": "code",
   "execution_count": 84,
   "metadata": {
    "collapsed": false
   },
   "outputs": [
    {
     "ename": "KeyError",
     "evalue": "'user'",
     "output_type": "error",
     "traceback": [
      "\u001b[0;31m---------------------------------------------------------------------------\u001b[0m",
      "\u001b[0;31mKeyError\u001b[0m                                  Traceback (most recent call last)",
      "\u001b[0;32m<ipython-input-84-6a6c028f4d47>\u001b[0m in \u001b[0;36m<module>\u001b[0;34m()\u001b[0m\n\u001b[0;32m----> 1\u001b[0;31m \u001b[0muser_group\u001b[0m \u001b[0;34m=\u001b[0m \u001b[0mdf\u001b[0m\u001b[0;34m.\u001b[0m\u001b[0mgroupby\u001b[0m\u001b[0;34m(\u001b[0m\u001b[0;34m'user'\u001b[0m\u001b[0;34m)\u001b[0m\u001b[0;34m\u001b[0m\u001b[0m\n\u001b[0m\u001b[1;32m      2\u001b[0m \u001b[0msize\u001b[0m \u001b[0;34m=\u001b[0m \u001b[0muser_group\u001b[0m\u001b[0;34m.\u001b[0m\u001b[0msize\u001b[0m\u001b[0;34m(\u001b[0m\u001b[0;34m)\u001b[0m\u001b[0;34m\u001b[0m\u001b[0m\n\u001b[1;32m      3\u001b[0m \u001b[0msize\u001b[0m\u001b[0;34m.\u001b[0m\u001b[0msort_values\u001b[0m\u001b[0;34m(\u001b[0m\u001b[0minplace\u001b[0m\u001b[0;34m=\u001b[0m\u001b[0mTrue\u001b[0m\u001b[0;34m)\u001b[0m\u001b[0;34m\u001b[0m\u001b[0m\n\u001b[1;32m      4\u001b[0m \u001b[0msize\u001b[0m\u001b[0;34m.\u001b[0m\u001b[0mplot\u001b[0m\u001b[0;34m(\u001b[0m\u001b[0;34m)\u001b[0m\u001b[0;34m\u001b[0m\u001b[0m\n\u001b[1;32m      5\u001b[0m \u001b[0;34m\u001b[0m\u001b[0m\n",
      "\u001b[0;32m/usr/local/lib/python2.7/site-packages/pandas/core/generic.pyc\u001b[0m in \u001b[0;36mgroupby\u001b[0;34m(self, by, axis, level, as_index, sort, group_keys, squeeze, **kwargs)\u001b[0m\n\u001b[1;32m   3989\u001b[0m         return groupby(self, by=by, axis=axis, level=level, as_index=as_index,\n\u001b[1;32m   3990\u001b[0m                        \u001b[0msort\u001b[0m\u001b[0;34m=\u001b[0m\u001b[0msort\u001b[0m\u001b[0;34m,\u001b[0m \u001b[0mgroup_keys\u001b[0m\u001b[0;34m=\u001b[0m\u001b[0mgroup_keys\u001b[0m\u001b[0;34m,\u001b[0m \u001b[0msqueeze\u001b[0m\u001b[0;34m=\u001b[0m\u001b[0msqueeze\u001b[0m\u001b[0;34m,\u001b[0m\u001b[0;34m\u001b[0m\u001b[0m\n\u001b[0;32m-> 3991\u001b[0;31m                        **kwargs)\n\u001b[0m\u001b[1;32m   3992\u001b[0m \u001b[0;34m\u001b[0m\u001b[0m\n\u001b[1;32m   3993\u001b[0m     \u001b[0;32mdef\u001b[0m \u001b[0masfreq\u001b[0m\u001b[0;34m(\u001b[0m\u001b[0mself\u001b[0m\u001b[0;34m,\u001b[0m \u001b[0mfreq\u001b[0m\u001b[0;34m,\u001b[0m \u001b[0mmethod\u001b[0m\u001b[0;34m=\u001b[0m\u001b[0mNone\u001b[0m\u001b[0;34m,\u001b[0m \u001b[0mhow\u001b[0m\u001b[0;34m=\u001b[0m\u001b[0mNone\u001b[0m\u001b[0;34m,\u001b[0m \u001b[0mnormalize\u001b[0m\u001b[0;34m=\u001b[0m\u001b[0mFalse\u001b[0m\u001b[0;34m)\u001b[0m\u001b[0;34m:\u001b[0m\u001b[0;34m\u001b[0m\u001b[0m\n",
      "\u001b[0;32m/usr/local/lib/python2.7/site-packages/pandas/core/groupby.pyc\u001b[0m in \u001b[0;36mgroupby\u001b[0;34m(obj, by, **kwds)\u001b[0m\n\u001b[1;32m   1509\u001b[0m         \u001b[0;32mraise\u001b[0m \u001b[0mTypeError\u001b[0m\u001b[0;34m(\u001b[0m\u001b[0;34m'invalid type: %s'\u001b[0m \u001b[0;34m%\u001b[0m \u001b[0mtype\u001b[0m\u001b[0;34m(\u001b[0m\u001b[0mobj\u001b[0m\u001b[0;34m)\u001b[0m\u001b[0;34m)\u001b[0m\u001b[0;34m\u001b[0m\u001b[0m\n\u001b[1;32m   1510\u001b[0m \u001b[0;34m\u001b[0m\u001b[0m\n\u001b[0;32m-> 1511\u001b[0;31m     \u001b[0;32mreturn\u001b[0m \u001b[0mklass\u001b[0m\u001b[0;34m(\u001b[0m\u001b[0mobj\u001b[0m\u001b[0;34m,\u001b[0m \u001b[0mby\u001b[0m\u001b[0;34m,\u001b[0m \u001b[0;34m**\u001b[0m\u001b[0mkwds\u001b[0m\u001b[0;34m)\u001b[0m\u001b[0;34m\u001b[0m\u001b[0m\n\u001b[0m\u001b[1;32m   1512\u001b[0m \u001b[0;34m\u001b[0m\u001b[0m\n\u001b[1;32m   1513\u001b[0m \u001b[0;34m\u001b[0m\u001b[0m\n",
      "\u001b[0;32m/usr/local/lib/python2.7/site-packages/pandas/core/groupby.pyc\u001b[0m in \u001b[0;36m__init__\u001b[0;34m(self, obj, keys, axis, level, grouper, exclusions, selection, as_index, sort, group_keys, squeeze, **kwargs)\u001b[0m\n\u001b[1;32m    368\u001b[0m                                                     \u001b[0mlevel\u001b[0m\u001b[0;34m=\u001b[0m\u001b[0mlevel\u001b[0m\u001b[0;34m,\u001b[0m\u001b[0;34m\u001b[0m\u001b[0m\n\u001b[1;32m    369\u001b[0m                                                     \u001b[0msort\u001b[0m\u001b[0;34m=\u001b[0m\u001b[0msort\u001b[0m\u001b[0;34m,\u001b[0m\u001b[0;34m\u001b[0m\u001b[0m\n\u001b[0;32m--> 370\u001b[0;31m                                                     mutated=self.mutated)\n\u001b[0m\u001b[1;32m    371\u001b[0m \u001b[0;34m\u001b[0m\u001b[0m\n\u001b[1;32m    372\u001b[0m         \u001b[0mself\u001b[0m\u001b[0;34m.\u001b[0m\u001b[0mobj\u001b[0m \u001b[0;34m=\u001b[0m \u001b[0mobj\u001b[0m\u001b[0;34m\u001b[0m\u001b[0m\n",
      "\u001b[0;32m/usr/local/lib/python2.7/site-packages/pandas/core/groupby.pyc\u001b[0m in \u001b[0;36m_get_grouper\u001b[0;34m(obj, key, axis, level, sort, mutated)\u001b[0m\n\u001b[1;32m   2460\u001b[0m \u001b[0;34m\u001b[0m\u001b[0m\n\u001b[1;32m   2461\u001b[0m         \u001b[0;32melif\u001b[0m \u001b[0mis_in_axis\u001b[0m\u001b[0;34m(\u001b[0m\u001b[0mgpr\u001b[0m\u001b[0;34m)\u001b[0m\u001b[0;34m:\u001b[0m  \u001b[0;31m# df.groupby('name')\u001b[0m\u001b[0;34m\u001b[0m\u001b[0m\n\u001b[0;32m-> 2462\u001b[0;31m             \u001b[0min_axis\u001b[0m\u001b[0;34m,\u001b[0m \u001b[0mname\u001b[0m\u001b[0;34m,\u001b[0m \u001b[0mgpr\u001b[0m \u001b[0;34m=\u001b[0m \u001b[0mTrue\u001b[0m\u001b[0;34m,\u001b[0m \u001b[0mgpr\u001b[0m\u001b[0;34m,\u001b[0m \u001b[0mobj\u001b[0m\u001b[0;34m[\u001b[0m\u001b[0mgpr\u001b[0m\u001b[0;34m]\u001b[0m\u001b[0;34m\u001b[0m\u001b[0m\n\u001b[0m\u001b[1;32m   2463\u001b[0m             \u001b[0mexclusions\u001b[0m\u001b[0;34m.\u001b[0m\u001b[0mappend\u001b[0m\u001b[0;34m(\u001b[0m\u001b[0mname\u001b[0m\u001b[0;34m)\u001b[0m\u001b[0;34m\u001b[0m\u001b[0m\n\u001b[1;32m   2464\u001b[0m         \u001b[0;32melif\u001b[0m \u001b[0misinstance\u001b[0m\u001b[0;34m(\u001b[0m\u001b[0mgpr\u001b[0m\u001b[0;34m,\u001b[0m \u001b[0mGrouper\u001b[0m\u001b[0;34m)\u001b[0m \u001b[0;32mand\u001b[0m \u001b[0mgpr\u001b[0m\u001b[0;34m.\u001b[0m\u001b[0mkey\u001b[0m \u001b[0;32mis\u001b[0m \u001b[0;32mnot\u001b[0m \u001b[0mNone\u001b[0m\u001b[0;34m:\u001b[0m\u001b[0;34m\u001b[0m\u001b[0m\n",
      "\u001b[0;32m/usr/local/lib/python2.7/site-packages/pandas/core/frame.pyc\u001b[0m in \u001b[0;36m__getitem__\u001b[0;34m(self, key)\u001b[0m\n\u001b[1;32m   2057\u001b[0m             \u001b[0;32mreturn\u001b[0m \u001b[0mself\u001b[0m\u001b[0;34m.\u001b[0m\u001b[0m_getitem_multilevel\u001b[0m\u001b[0;34m(\u001b[0m\u001b[0mkey\u001b[0m\u001b[0;34m)\u001b[0m\u001b[0;34m\u001b[0m\u001b[0m\n\u001b[1;32m   2058\u001b[0m         \u001b[0;32melse\u001b[0m\u001b[0;34m:\u001b[0m\u001b[0;34m\u001b[0m\u001b[0m\n\u001b[0;32m-> 2059\u001b[0;31m             \u001b[0;32mreturn\u001b[0m \u001b[0mself\u001b[0m\u001b[0;34m.\u001b[0m\u001b[0m_getitem_column\u001b[0m\u001b[0;34m(\u001b[0m\u001b[0mkey\u001b[0m\u001b[0;34m)\u001b[0m\u001b[0;34m\u001b[0m\u001b[0m\n\u001b[0m\u001b[1;32m   2060\u001b[0m \u001b[0;34m\u001b[0m\u001b[0m\n\u001b[1;32m   2061\u001b[0m     \u001b[0;32mdef\u001b[0m \u001b[0m_getitem_column\u001b[0m\u001b[0;34m(\u001b[0m\u001b[0mself\u001b[0m\u001b[0;34m,\u001b[0m \u001b[0mkey\u001b[0m\u001b[0;34m)\u001b[0m\u001b[0;34m:\u001b[0m\u001b[0;34m\u001b[0m\u001b[0m\n",
      "\u001b[0;32m/usr/local/lib/python2.7/site-packages/pandas/core/frame.pyc\u001b[0m in \u001b[0;36m_getitem_column\u001b[0;34m(self, key)\u001b[0m\n\u001b[1;32m   2064\u001b[0m         \u001b[0;31m# get column\u001b[0m\u001b[0;34m\u001b[0m\u001b[0;34m\u001b[0m\u001b[0m\n\u001b[1;32m   2065\u001b[0m         \u001b[0;32mif\u001b[0m \u001b[0mself\u001b[0m\u001b[0;34m.\u001b[0m\u001b[0mcolumns\u001b[0m\u001b[0;34m.\u001b[0m\u001b[0mis_unique\u001b[0m\u001b[0;34m:\u001b[0m\u001b[0;34m\u001b[0m\u001b[0m\n\u001b[0;32m-> 2066\u001b[0;31m             \u001b[0;32mreturn\u001b[0m \u001b[0mself\u001b[0m\u001b[0;34m.\u001b[0m\u001b[0m_get_item_cache\u001b[0m\u001b[0;34m(\u001b[0m\u001b[0mkey\u001b[0m\u001b[0;34m)\u001b[0m\u001b[0;34m\u001b[0m\u001b[0m\n\u001b[0m\u001b[1;32m   2067\u001b[0m \u001b[0;34m\u001b[0m\u001b[0m\n\u001b[1;32m   2068\u001b[0m         \u001b[0;31m# duplicate columns & possible reduce dimensionality\u001b[0m\u001b[0;34m\u001b[0m\u001b[0;34m\u001b[0m\u001b[0m\n",
      "\u001b[0;32m/usr/local/lib/python2.7/site-packages/pandas/core/generic.pyc\u001b[0m in \u001b[0;36m_get_item_cache\u001b[0;34m(self, item)\u001b[0m\n\u001b[1;32m   1384\u001b[0m         \u001b[0mres\u001b[0m \u001b[0;34m=\u001b[0m \u001b[0mcache\u001b[0m\u001b[0;34m.\u001b[0m\u001b[0mget\u001b[0m\u001b[0;34m(\u001b[0m\u001b[0mitem\u001b[0m\u001b[0;34m)\u001b[0m\u001b[0;34m\u001b[0m\u001b[0m\n\u001b[1;32m   1385\u001b[0m         \u001b[0;32mif\u001b[0m \u001b[0mres\u001b[0m \u001b[0;32mis\u001b[0m \u001b[0mNone\u001b[0m\u001b[0;34m:\u001b[0m\u001b[0;34m\u001b[0m\u001b[0m\n\u001b[0;32m-> 1386\u001b[0;31m             \u001b[0mvalues\u001b[0m \u001b[0;34m=\u001b[0m \u001b[0mself\u001b[0m\u001b[0;34m.\u001b[0m\u001b[0m_data\u001b[0m\u001b[0;34m.\u001b[0m\u001b[0mget\u001b[0m\u001b[0;34m(\u001b[0m\u001b[0mitem\u001b[0m\u001b[0;34m)\u001b[0m\u001b[0;34m\u001b[0m\u001b[0m\n\u001b[0m\u001b[1;32m   1387\u001b[0m             \u001b[0mres\u001b[0m \u001b[0;34m=\u001b[0m \u001b[0mself\u001b[0m\u001b[0;34m.\u001b[0m\u001b[0m_box_item_values\u001b[0m\u001b[0;34m(\u001b[0m\u001b[0mitem\u001b[0m\u001b[0;34m,\u001b[0m \u001b[0mvalues\u001b[0m\u001b[0;34m)\u001b[0m\u001b[0;34m\u001b[0m\u001b[0m\n\u001b[1;32m   1388\u001b[0m             \u001b[0mcache\u001b[0m\u001b[0;34m[\u001b[0m\u001b[0mitem\u001b[0m\u001b[0;34m]\u001b[0m \u001b[0;34m=\u001b[0m \u001b[0mres\u001b[0m\u001b[0;34m\u001b[0m\u001b[0m\n",
      "\u001b[0;32m/usr/local/lib/python2.7/site-packages/pandas/core/internals.pyc\u001b[0m in \u001b[0;36mget\u001b[0;34m(self, item, fastpath)\u001b[0m\n\u001b[1;32m   3541\u001b[0m \u001b[0;34m\u001b[0m\u001b[0m\n\u001b[1;32m   3542\u001b[0m             \u001b[0;32mif\u001b[0m \u001b[0;32mnot\u001b[0m \u001b[0misnull\u001b[0m\u001b[0;34m(\u001b[0m\u001b[0mitem\u001b[0m\u001b[0;34m)\u001b[0m\u001b[0;34m:\u001b[0m\u001b[0;34m\u001b[0m\u001b[0m\n\u001b[0;32m-> 3543\u001b[0;31m                 \u001b[0mloc\u001b[0m \u001b[0;34m=\u001b[0m \u001b[0mself\u001b[0m\u001b[0;34m.\u001b[0m\u001b[0mitems\u001b[0m\u001b[0;34m.\u001b[0m\u001b[0mget_loc\u001b[0m\u001b[0;34m(\u001b[0m\u001b[0mitem\u001b[0m\u001b[0;34m)\u001b[0m\u001b[0;34m\u001b[0m\u001b[0m\n\u001b[0m\u001b[1;32m   3544\u001b[0m             \u001b[0;32melse\u001b[0m\u001b[0;34m:\u001b[0m\u001b[0;34m\u001b[0m\u001b[0m\n\u001b[1;32m   3545\u001b[0m                 \u001b[0mindexer\u001b[0m \u001b[0;34m=\u001b[0m \u001b[0mnp\u001b[0m\u001b[0;34m.\u001b[0m\u001b[0marange\u001b[0m\u001b[0;34m(\u001b[0m\u001b[0mlen\u001b[0m\u001b[0;34m(\u001b[0m\u001b[0mself\u001b[0m\u001b[0;34m.\u001b[0m\u001b[0mitems\u001b[0m\u001b[0;34m)\u001b[0m\u001b[0;34m)\u001b[0m\u001b[0;34m[\u001b[0m\u001b[0misnull\u001b[0m\u001b[0;34m(\u001b[0m\u001b[0mself\u001b[0m\u001b[0;34m.\u001b[0m\u001b[0mitems\u001b[0m\u001b[0;34m)\u001b[0m\u001b[0;34m]\u001b[0m\u001b[0;34m\u001b[0m\u001b[0m\n",
      "\u001b[0;32m/usr/local/lib/python2.7/site-packages/pandas/indexes/base.pyc\u001b[0m in \u001b[0;36mget_loc\u001b[0;34m(self, key, method, tolerance)\u001b[0m\n\u001b[1;32m   2134\u001b[0m                 \u001b[0;32mreturn\u001b[0m \u001b[0mself\u001b[0m\u001b[0;34m.\u001b[0m\u001b[0m_engine\u001b[0m\u001b[0;34m.\u001b[0m\u001b[0mget_loc\u001b[0m\u001b[0;34m(\u001b[0m\u001b[0mkey\u001b[0m\u001b[0;34m)\u001b[0m\u001b[0;34m\u001b[0m\u001b[0m\n\u001b[1;32m   2135\u001b[0m             \u001b[0;32mexcept\u001b[0m \u001b[0mKeyError\u001b[0m\u001b[0;34m:\u001b[0m\u001b[0;34m\u001b[0m\u001b[0m\n\u001b[0;32m-> 2136\u001b[0;31m                 \u001b[0;32mreturn\u001b[0m \u001b[0mself\u001b[0m\u001b[0;34m.\u001b[0m\u001b[0m_engine\u001b[0m\u001b[0;34m.\u001b[0m\u001b[0mget_loc\u001b[0m\u001b[0;34m(\u001b[0m\u001b[0mself\u001b[0m\u001b[0;34m.\u001b[0m\u001b[0m_maybe_cast_indexer\u001b[0m\u001b[0;34m(\u001b[0m\u001b[0mkey\u001b[0m\u001b[0;34m)\u001b[0m\u001b[0;34m)\u001b[0m\u001b[0;34m\u001b[0m\u001b[0m\n\u001b[0m\u001b[1;32m   2137\u001b[0m \u001b[0;34m\u001b[0m\u001b[0m\n\u001b[1;32m   2138\u001b[0m         \u001b[0mindexer\u001b[0m \u001b[0;34m=\u001b[0m \u001b[0mself\u001b[0m\u001b[0;34m.\u001b[0m\u001b[0mget_indexer\u001b[0m\u001b[0;34m(\u001b[0m\u001b[0;34m[\u001b[0m\u001b[0mkey\u001b[0m\u001b[0;34m]\u001b[0m\u001b[0;34m,\u001b[0m \u001b[0mmethod\u001b[0m\u001b[0;34m=\u001b[0m\u001b[0mmethod\u001b[0m\u001b[0;34m,\u001b[0m \u001b[0mtolerance\u001b[0m\u001b[0;34m=\u001b[0m\u001b[0mtolerance\u001b[0m\u001b[0;34m)\u001b[0m\u001b[0;34m\u001b[0m\u001b[0m\n",
      "\u001b[0;32mpandas/index.pyx\u001b[0m in \u001b[0;36mpandas.index.IndexEngine.get_loc (pandas/index.c:4433)\u001b[0;34m()\u001b[0m\n",
      "\u001b[0;32mpandas/index.pyx\u001b[0m in \u001b[0;36mpandas.index.IndexEngine.get_loc (pandas/index.c:4279)\u001b[0;34m()\u001b[0m\n",
      "\u001b[0;32mpandas/src/hashtable_class_helper.pxi\u001b[0m in \u001b[0;36mpandas.hashtable.PyObjectHashTable.get_item (pandas/hashtable.c:13742)\u001b[0;34m()\u001b[0m\n",
      "\u001b[0;32mpandas/src/hashtable_class_helper.pxi\u001b[0m in \u001b[0;36mpandas.hashtable.PyObjectHashTable.get_item (pandas/hashtable.c:13696)\u001b[0;34m()\u001b[0m\n",
      "\u001b[0;31mKeyError\u001b[0m: 'user'"
     ]
    }
   ],
   "source": [
    "user_group = df.groupby('user')\n",
    "size = user_group.size()\n",
    "size.sort_values(inplace=True)\n",
    "size.plot()\n",
    "\n"
   ]
  },
  {
   "cell_type": "code",
   "execution_count": 85,
   "metadata": {
    "collapsed": false
   },
   "outputs": [
    {
     "data": {
      "text/html": [
       "<div>\n",
       "<table border=\"1\" class=\"dataframe\">\n",
       "  <thead>\n",
       "    <tr style=\"text-align: right;\">\n",
       "      <th></th>\n",
       "      <th>date</th>\n",
       "      <th>text</th>\n",
       "      <th>count</th>\n",
       "    </tr>\n",
       "    <tr>\n",
       "      <th>user</th>\n",
       "      <th></th>\n",
       "      <th></th>\n",
       "      <th></th>\n",
       "    </tr>\n",
       "  </thead>\n",
       "  <tbody>\n",
       "    <tr>\n",
       "      <th>ASellers</th>\n",
       "      <td>2017-03-29</td>\n",
       "      <td>Hi, I'm trying to determine if Geotrellis can ...</td>\n",
       "      <td>1</td>\n",
       "    </tr>\n",
       "    <tr>\n",
       "      <th>ASellers</th>\n",
       "      <td>2017-03-29</td>\n",
       "      <td>Hi, @lossyrob - thanks for the help.  That's r...</td>\n",
       "      <td>1</td>\n",
       "    </tr>\n",
       "    <tr>\n",
       "      <th>ASellers</th>\n",
       "      <td>2017-03-29</td>\n",
       "      <td>Appreciate any insight about a possible approach.</td>\n",
       "      <td>1</td>\n",
       "    </tr>\n",
       "    <tr>\n",
       "      <th>ASellers</th>\n",
       "      <td>2017-03-29</td>\n",
       "      <td>@lossyrob - that's helpful.  Thank you very much.</td>\n",
       "      <td>1</td>\n",
       "    </tr>\n",
       "    <tr>\n",
       "      <th>ASellers</th>\n",
       "      <td>2017-03-30</td>\n",
       "      <td>@lossyrob - Thanks!  That's really helpful.</td>\n",
       "      <td>1</td>\n",
       "    </tr>\n",
       "  </tbody>\n",
       "</table>\n",
       "</div>"
      ],
      "text/plain": [
       "               date                                               text  count\n",
       "user                                                                         \n",
       "ASellers 2017-03-29  Hi, I'm trying to determine if Geotrellis can ...      1\n",
       "ASellers 2017-03-29  Hi, @lossyrob - thanks for the help.  That's r...      1\n",
       "ASellers 2017-03-29  Appreciate any insight about a possible approach.      1\n",
       "ASellers 2017-03-29  @lossyrob - that's helpful.  Thank you very much.      1\n",
       "ASellers 2017-03-30        @lossyrob - Thanks!  That's really helpful.      1"
      ]
     },
     "execution_count": 85,
     "metadata": {},
     "output_type": "execute_result"
    }
   ],
   "source": [
    "df.reset_index('date', inplace = True)\n",
    "df.head()"
   ]
  },
  {
   "cell_type": "code",
   "execution_count": 87,
   "metadata": {
    "collapsed": false
   },
   "outputs": [],
   "source": [
    "minDate = df.groupby(level = 'user')['date'].min()\n",
    "maxDate = df.groupby(level = 'user')['date'].max()\n",
    "\n",
    "minMaxDate = pd.DataFrame({'minDate': minDate, 'maxDate': maxDate})\n",
    "\n",
    "minMaxDate['diff'] = maxDate - minDate\n",
    "\n",
    "minMaxDate.head()\n",
    "minMaxDate.to_csv('minmax.csv', sep='\\t')"
   ]
  },
  {
   "cell_type": "markdown",
   "metadata": {},
   "source": []
  },
  {
   "cell_type": "markdown",
   "metadata": {},
   "source": [
    "## Matplotlib makin' bars (not implemented) :+1:"
   ]
  },
  {
   "cell_type": "code",
   "execution_count": null,
   "metadata": {
    "collapsed": false
   },
   "outputs": [],
   "source": [
    "minMaxDate.sort_values(by='minDate', inplace=True)"
   ]
  },
  {
   "cell_type": "code",
   "execution_count": null,
   "metadata": {
    "collapsed": false
   },
   "outputs": [],
   "source": [
    "minMaxDate = minMaxDate[minMaxDate['diff'] > timedelta(days=7)]"
   ]
  },
  {
   "cell_type": "code",
   "execution_count": null,
   "metadata": {
    "collapsed": true
   },
   "outputs": [],
   "source": [
    "from matplotlib.patches import Rectangle"
   ]
  },
  {
   "cell_type": "code",
   "execution_count": null,
   "metadata": {
    "collapsed": false
   },
   "outputs": [],
   "source": [
    "minMaxDate['minDateTS'] = minMaxDate['minDate'].map(lambda x: np.datetime64(x))\n",
    "minMaxDate['diffTS'] = minMaxDate['diff'].map(lambda x: np.timedelta64(x))"
   ]
  },
  {
   "cell_type": "code",
   "execution_count": 37,
   "metadata": {
    "collapsed": false
   },
   "outputs": [
    {
     "ename": "NameError",
     "evalue": "name 'minMaxDate' is not defined",
     "output_type": "error",
     "traceback": [
      "\u001b[0;31m---------------------------------------------------------------------------\u001b[0m",
      "\u001b[0;31mNameError\u001b[0m                                 Traceback (most recent call last)",
      "\u001b[0;32m<ipython-input-37-a7a3aef0d4d8>\u001b[0m in \u001b[0;36m<module>\u001b[0;34m()\u001b[0m\n\u001b[0;32m----> 1\u001b[0;31m \u001b[0mminMaxDate\u001b[0m\u001b[0;34m.\u001b[0m\u001b[0mhead\u001b[0m\u001b[0;34m(\u001b[0m\u001b[0;34m)\u001b[0m\u001b[0;34m\u001b[0m\u001b[0m\n\u001b[0m",
      "\u001b[0;31mNameError\u001b[0m: name 'minMaxDate' is not defined"
     ]
    }
   ],
   "source": [
    "minMaxDate.head()"
   ]
  },
  {
   "cell_type": "code",
   "execution_count": null,
   "metadata": {
    "collapsed": false
   },
   "outputs": [],
   "source": [
    "ys = (np.linspace(0, 79, num=79) / 79)\n",
    "rectangles = [\n",
    "    Rectangle(xy=(minMaxDate.loc[r, 'minDateTS'], y),\n",
    "             width=minMaxDate.loc[r, 'diffTS'],\n",
    "             height= 1 / 79.) for r, y in zip(minMaxDate.index, ys)\n",
    "]"
   ]
  },
  {
   "cell_type": "code",
   "execution_count": null,
   "metadata": {
    "collapsed": false,
    "scrolled": false
   },
   "outputs": [],
   "source": [
    "for rect in rectangles:\n",
    "    ax2.add_patch(rect)"
   ]
  },
  {
   "cell_type": "code",
   "execution_count": 22,
   "metadata": {
    "collapsed": false
   },
   "outputs": [],
   "source": [
    "count = df.groupby('text').count()"
   ]
  },
  {
   "cell_type": "code",
   "execution_count": 23,
   "metadata": {
    "collapsed": false
   },
   "outputs": [
    {
     "data": {
      "text/html": [
       "<div>\n",
       "<table border=\"1\" class=\"dataframe\">\n",
       "  <thead>\n",
       "    <tr style=\"text-align: right;\">\n",
       "      <th></th>\n",
       "      <th>count</th>\n",
       "    </tr>\n",
       "    <tr>\n",
       "      <th>text</th>\n",
       "      <th></th>\n",
       "    </tr>\n",
       "  </thead>\n",
       "  <tbody>\n",
       "    <tr>\n",
       "      <th>\\t`/data/geotrellis/proj4/src/main/java/org/osgeo/proj4j/util/PolarCoordinate.java:18:  error: unmappable character for encoding ASCII\\t`</th>\n",
       "      <td>1</td>\n",
       "    </tr>\n",
       "    <tr>\n",
       "      <th>\\r\\r\\r\\rI'm trying out the new Multiband spark-etl stuff that was committed yesterday and having tons of issues\\r\\r\\r</th>\n",
       "      <td>1</td>\n",
       "    </tr>\n",
       "    <tr>\n",
       "      <th>\\r&gt; PhotometricInterpretation = 3 (Palette Color).\\r&gt; ColorMap\\r&gt; Tag = 320 (140.H)\\r&gt; Type = SHORT\\r&gt; N = 3 * (2**BitsPerSample)\\r&gt; This field defines a Red-Green-Blue color map (often called a lookup table) for palette color images. In a palette-color image, a pixel value is used to index into an RGB-lookup table. For example, a palette-color pixel having a value of 0 would be displayed according to the 0th Red, Green, Blue triplet.\\r&gt; In a TIFF ColorMap, all the Red values come first, followed by the Green values, then the Blue values. In the ColorMap, black is represented by 0,0,0 and white is represented by 65535, 65535, 65535.</th>\n",
       "      <td>1</td>\n",
       "    </tr>\n",
       "    <tr>\n",
       "      <th>\\r@lossyrob  I borrowed heavily from your Slippy map example you supplied me earlier on. I run a number of ops and feed the results to a extension of the SlippyTileWriter   I created.   Issue is I want to use different or custom Colorramps for different op results.  I am including a code snippet below.  I  believe my limitation is programming in the scala environment but maybe you would have a pointer,   I want to pass a dynamic ColorRamp value to  the gtOut.tile.renderPng  call and not sure the best way to extend the pattern/framework \\ryou were using.  Let me know if this is outside of the scope of this board. Thanks Chris\\r\\r```\\r// Pyramiding up the zoom levels, write our tiles out to the local file system.\\r        val writeOp =\\r          Pyramid.upLevels( new RasterRDD(tiled, rasterMetaData), layoutScheme, zoom) { (rdd, z) =&gt;\\r\\r            val md = rdd.metaData\\r\\r            // New Approach\\r            val writer = new SurgeIndexSlippyTileWriter[Tile](jobId) ({ (key, tile) =&gt;\\r\\r              // Tile is geotrellis.raster.Tile\\r              val extent = md.mapTransform(key)\\r\\r              // Make geotrellis.raster.io.geotiff.SingleBandGeoTiff\\r              val gtOut= GeoTiff(tile, extent, WebMercator)\\r\\r              gtOut.tile.renderPng( ColorRamps.BlueToRed ).bytes\\r\\r            })\\r\\r            new RasterRDD( writer.setupWrite(z, rdd), md)\\r\\r          }\\r\\r        // We've set up a set of Spark \"transformations\", but need to call an \"action\" to kick off the work.\\r        // An empty foreach call is enough to set the processing in motion.\\r        writeOp.foreach { x =&gt; }\\r```</th>\n",
       "      <td>1</td>\n",
       "    </tr>\n",
       "    <tr>\n",
       "      <th>\\r@lossyrob I ingest landsat data with this code (https://github.com/lossyrob/landsat-demo/blob/master/ingest/src/main/scala/demo/LandsatIngest.scala). There is a problem that metadata writes only for the last image. As the result I can access with LayerReader only the layer with the last image. TileReader(ValuerReader) works fine for images visualization with some modification provided in the same repo. I want to query polygon or time range based on the whole layers images \\r``` \\rreaderSet.multiBandLayerReader.query[SpaceTimeKey, MultibandTile, TileLayerMetadata[SpaceTimeKey]](layer).where(Between(time1_joda, time2_joda)).toRDD \\r``` \\rand get result only for the the last  image.  The images that i write in one layer are have different time and extent range, maybe this could be a problem?\\r ```\\r val images =\\r      Array[String](\\r        \"data/bel2/LC81800192016108LGN00\",\\r        \"data/bel2/LC81780222014152LGN00\",\\r        \"data/bel2/LC81810242014157LGN00\"\\r      )\\r  ```</th>\n",
       "      <td>1</td>\n",
       "    </tr>\n",
       "    <tr>\n",
       "      <th>\\r@schBen this path can be local or hdfs; `LayerId` consists of a `layerName` (juts a string) and of a zoom level. Before you can use reader, as @echeipesh pointed, you have to ingest tiles (S3, Accumulo, HDFS, Spark Files). \\r\\rTo save a certain `Tile` as png: \\r\\r```scala\\rimport geotrellis.raster.render._\\rval tile: Tile = ???\\rval somePath = \"/test.png\"\\rtile.renderPng.write(somePath)\\r```  \\r\\rAnd possible to save the whole `RDD` as png:\\r\\r```scala\\rval rdd: RasterRDD[SpatialKey] = ???\\rrdd.renderPng(layerId, \"s3://tile-bucket/{name}/{z}/{x}/{y}.png\")\\r```\\r\\rAlso may be it would be helpful for you, there is an ndvi project: https://github.com/geotrellis/geotrellis-landsat-tutorial/tree/master/src/main/scala/tutorial containing examples of ingesting and redering as png</th>\n",
       "      <td>1</td>\n",
       "    </tr>\n",
       "    <tr>\n",
       "      <th>\\rHow Do I create  server Assembly?</th>\n",
       "      <td>1</td>\n",
       "    </tr>\n",
       "    <tr>\n",
       "      <th>\\rI ran the geotrellis install and Accumulo, Hadoop and Spark all seemed fine. But when I tried the ingest and accumulo seemed to stop.</th>\n",
       "      <td>1</td>\n",
       "    </tr>\n",
       "    <tr>\n",
       "      <th>\\rI updated to RC3 and I got a tricky one: `Cannot deserialize key index for key type geotrellis.spark.KeyBounds. You need to register this key type using the config item geotrellis.spark.io.index.registrator`</th>\n",
       "      <td>1</td>\n",
       "    </tr>\n",
       "    <tr>\n",
       "      <th>\\rI want to display geotiff files while using spark server(spark submit --name \"name\" {path of server Assembly jar} local catalog), which I have ingested, And after, I want to perform subtraction on it ( r1-r2) , Because, Substraction operation is performed via server-assembly.jar  (Which is created in \"landsat server emr\" github project by @lossyrob @pomadchin  ), I copied your server folder, and performed to build server assembly jar , But, It didn't create. And, another problem is, for ingesting, I have used ETL.ingest(projectedExtent,spatialkey,tile) and in server-assembly.jar you used concept of times, I think So, it will give error like FIleAttributeStore not found (because of time is not presented in ingest method), So how do i resolve this issue?</th>\n",
       "      <td>1</td>\n",
       "    </tr>\n",
       "    <tr>\n",
       "      <th>\\rThanks, making progess I think.</th>\n",
       "      <td>1</td>\n",
       "    </tr>\n",
       "    <tr>\n",
       "      <th>\\rWhat I mean, only come to my mind solutions, which seem inefficient, due to my ignorance of geotrellis. For example, extract only the class of my interest, say class 38, and only where there is such a value there will be data, in the rest will be NODATA, then I apply FocalMean of a neighborhood of 100 x 100 and in all those pixels where there is a value exactly Equal to 38, these will be the centers of the desired regions, there will be multiple contiguous centers, but that is not a problem at all. But it seems to me somewhat inefficient.</th>\n",
       "      <td>1</td>\n",
       "    </tr>\n",
       "    <tr>\n",
       "      <th>\\r```\\rDriver: GTiff/GeoTIFF\\rFiles: RAD_NL25_PCP_CM_201610191955.h5_1.tif\\rSize is 700, 765\\rCoordinate System is:\\rGEOGCS[\"WGS 84\",\\r    DATUM[\"WGS_1984\",\\r        SPHEROID[\"WGS 84\",6378137,298.257223563,\\r            AUTHORITY[\"EPSG\",\"7030\"]],\\r        AUTHORITY[\"EPSG\",\"6326\"]],\\r    PRIMEM[\"Greenwich\",0],\\r    UNIT[\"degree\",0.0174532925199433],\\r    AUTHORITY[\"EPSG\",\"4326\"]]\\rOrigin = (0.000000000000000,55.973607399999999)\\rPixel Size = (0.015505835000000,-0.009256413202614)\\rMetadata:\\r  AREA_OR_POINT=Area\\rImage Structure Metadata:\\r  INTERLEAVE=PIXEL\\rCorner Coordinates:\\rUpper Left  (   0.0000000,  55.9736074) (  0d 0' 0.01\"E, 55d58'24.99\"N)\\rLower Left  (   0.0000000,  48.8924513) (  0d 0' 0.01\"E, 48d53'32.82\"N)\\rUpper Right (  10.8540845,  55.9736074) ( 10d51'14.70\"E, 55d58'24.99\"N)\\rLower Right (  10.8540845,  48.8924513) ( 10d51'14.70\"E, 48d53'32.82\"N)\\rCenter      (   5.4270423,  52.4330293) (  5d25'37.35\"E, 52d25'58.91\"N)\\rBand 1 Block=700x2 Type=Int32, ColorInterp=Red\\r    Computed Min/Max=0.000,254.000\\r  NoData Value=-2147483648\\r  Metadata:\\r    GIF_BACKGRUND=0\\r    TIFFTAG_PHOTOMETRIC=rgb\\rBand 2 Block=700x2 Type=Int32, ColorInterp=Green\\r    Computed Min/Max=0.000,251.000\\r  NoData Value=-2147483648\\rBand 3 Block=700x2 Type=Int32, ColorInterp=Blue\\r    Computed Min/Max=0.000,251.000\\r  NoData Value=-2147483648\\r```</th>\n",
       "      <td>1</td>\n",
       "    </tr>\n",
       "    <tr>\n",
       "      <th>\\r```\\rimport geotrellis.raster.Tile\\rimport geotrellis.spark._\\rimport geotrellis.spark.etl.config.EtlConf\\rimport geotrellis.spark.util.SparkUtils\\rimport org.apache.spark.SparkConf\\r\\robject GeoTrellisETL {\\r  type I = TemporalProjectedExtent // or TemporalProjectedExtent for temporal ingest\\r  type K = SpaceTimeKey // or SpaceTimeKey for temporal ingest\\r  type V = Tile // or MultibandTile to ingest multiband tile\\r  def main(args: Array[String]): Unit = {\\r    implicit val sc = SparkUtils.createSparkContext(\"GeoTrellis ETL\", new SparkConf(true))\\r    try {\\r      EtlConf(args) foreach { conf =&gt;\\r        /* parse command line arguments */\\r        val etl = Etl(conf)\\r        /* load source tiles using input module specified */\\r        val sourceTiles = etl.load[I, V]\\r        /* perform the reprojection and mosaicing step to fit tiles to LayoutScheme specified */\\r        val (zoom, tiled) = etl.tile[I, V, K](sourceTiles)\\r        /* save and optionally pyramid the mosaiced layer */\\r        etl.save[K, V](LayerId(etl.input.name, zoom), tiled)\\r      }\\r    } finally {\\r      sc.stop()\\r    }\\r  }\\r}\\r```</th>\n",
       "      <td>1</td>\n",
       "    </tr>\n",
       "    <tr>\n",
       "      <th>\\r```scala\\rnew SparkConf()\\r      .setMaster(argHolder.master)\\r      .setAppName(_��Server\")\\r      .set(\"spark.serializer\", \"org.apache.spark.serializer.KryoSerializer\")\\r      .set(\"spark.kryo.registrator\", \"geotrellis.spark.io.hadoop.KryoRegistrator\")\\r      .set(\"spark.scheduler.mode\", argHolder.schedulerMode)\\r      .set(\"spark.driver.cores\", argHolder.driverCores)\\r      .set(\"spark.executor.cores\", argHolder.executorCores)\\r      .set(\"spark.cores.max\", argHolder.coresMax)\\r      .set(\"spark.executor.memory\", argHolder.executorMemory)\\r      .set(\"spark.driver.memory\", argHolder.driverMemory)\\r      .setJars(SparkContext.jarOfObject(this).toList)\\r```</th>\n",
       "      <td>1</td>\n",
       "    </tr>\n",
       "    <tr>\n",
       "      <th>\\r```scala\\rval tile = ArrayTile.empty(UShortCellType with GeoTrellisNoData, 256, 256)\\rval tile = ArrayTile.empty(UShortCellType with UserDefinedNoData, 256, 256)\\r```\\r</th>\n",
       "      <td>1</td>\n",
       "    </tr>\n",
       "    <tr>\n",
       "      <th>\\rbut it fails again:\\r```\\rException in thread \"main\" geotrellis.spark.io.package$LayerWriteError: Failed to write Layer(name = \"dem\", zoom = 13)\\r\\tat geotrellis.spark.io.accumulo.AccumuloLayerWriter._write(AccumuloLayerWriter.scala:50)\\r\\tat geotrellis.spark.io.accumulo.AccumuloLayerWriter._write(AccumuloLayerWriter.scala:15)\\r\\tat geotrellis.spark.io.LayerWriter$class.write(LayerWriter.scala:43)\\r\\tat geotrellis.spark.io.accumulo.AccumuloLayerWriter.write(AccumuloLayerWriter.scala:15)\\r\\tat geotrellis.spark.io.LayerWriter$$anon$1.write(LayerWriter.scala:55)\\r\\tat geotrellis.spark.io.LayerWriter$$anon$1.write(LayerWriter.scala:53)\\r\\tat geotrellis.spark.etl.OutputPlugin$class.apply(OutputPlugin.scala:21)\\r\\tat geotrellis.spark.etl.accumulo.SpatialAccumuloOutput.apply(SpatialAccumuloOutput.scala:11)\\r\\tat geotrellis.spark.etl.Etl.savePyramid$1(Etl.scala:173)\\r\\tat geotrellis.spark.etl.Etl.save(Etl.scala:187)\\r\\tat geotrellis.spark.etl.Etl$.ingest(Etl.scala:46)\\r\\tat geotrellis.spark.etl.SinglebandIngest$.main(SinglebandIngest.scala:15)\\r\\tat geotrellis.spark.etl.SinglebandIngest.main(SinglebandIngest.scala)\\r\\tat sun.reflect.NativeMethodAccessorImpl.invoke0(Native Method)\\r\\tat sun.reflect.NativeMethodAccessorImpl.invoke(NativeMethodAccessorImpl.java:62)\\r\\tat sun.reflect.DelegatingMethodAccessorImpl.invoke(DelegatingMethodAccessorImpl.java:43)\\r\\tat java.lang.reflect.Method.invoke(Method.java:498)\\r\\tat org.apache.spark.deploy.SparkSubmit$.org$apache$spark$deploy$SparkSubmit$$runMain(SparkSubmit.scala:731)\\r\\tat org.apache.spark.deploy.SparkSubmit$.doRunMain$1(SparkSubmit.scala:181)\\r\\tat org.apache.spark.deploy.SparkSubmit$.submit(SparkSubmit.scala:206)\\r\\tat org.apache.spark.deploy.SparkSubmit$.main(SparkSubmit.scala:121)\\r\\tat org.apache.spark.deploy.SparkSubmit.main(SparkSubmit.scala)\\rCaused by: org.apache.accumulo.core.client.AccumuloException: file:/geotrellis-ingest/89c80d30-144e-4d65-abd2-01180a32eab4-8wf3sMHx7E: java.io.IOException: file:/geotrellis-ingest/89c80d30-144e-4d65-abd2-01180a32eab4-8wf3sMHx7E is not in a volume configured for Accumulo\\r\\tat org.apache.accumulo.core.client.impl.TableOperationsImpl.doFateOperation(TableOperationsImpl.java:300)\\r\\tat org.apache.accumulo.core.client.impl.TableOperationsImpl.doFateOperation(TableOperationsImpl.java:261)\\r\\tat org.apache.accumulo.core.client.impl.TableOperationsImpl.doTableFateOperation(TableOperationsImpl.java:1427)\\r\\tat org.apache.accumulo.core.client.impl.TableOperationsImpl.importDirectory(TableOperationsImpl.java:1046)\\r\\tat geotrellis.spark.io.accumulo.HdfsWriteStrategy.write(AccumuloWriteStrategy.scala:67)\\r\\tat geotrellis.spark.io.accumulo.AccumuloRDDWriter$.write(AccumuloRDDWriter.scala:41)\\r\\tat geotrellis.spark.io.accumulo.AccumuloLayerWriter._write(AccumuloLayerWriter.scala:52)\\r\\t... 21 more\\r```</th>\n",
       "      <td>1</td>\n",
       "    </tr>\n",
       "    <tr>\n",
       "      <th>\\rhi, i need some demo about  how to deal with the RasterRdd,when i ingest the tif  file into the HDFS.\\r```\\rval hc = HadoopRasterCatalog(new Path(\"hdfs://master:9000/catalog\"))(sc)\\rval rdd  = hc.read[SpatialKey](\"ncld\",0) //i found this method read turn red  ,i use IntelliJ IDEA\\r```\\rcan you give me some guidance or demo ,i want to know the details about use geotrellis .</th>\n",
       "      <td>1</td>\n",
       "    </tr>\n",
       "    <tr>\n",
       "      <th>\\rhow do you read back tiff tiles stored in hadoop using  `   tiles.renderGeoTiff(\"tile-bucket/{z}/{x}/{y}.tiff\")`?. I can read one coord tiffs using `sc.hadoopGeoTiffRDD(\"tile-bucket/&lt;zoom&gt;/&lt;coord&gt;/\")`</th>\n",
       "      <td>1</td>\n",
       "    </tr>\n",
       "    <tr>\n",
       "      <th></th>\n",
       "      <td>1</td>\n",
       "    </tr>\n",
       "    <tr>\n",
       "      <th>case t: MultiPoint =&gt; {      // only keep points that intersect the edge\\r            val top = t &amp; topLine\\r            val bot = t &amp; bottomLine\\r            val rit = t &amp; rightLine\\r            val lef = t &amp; leftLine\\r\\r            val st = Set(top,bot,rit,lef) - NoResult   // need to unwind the set and turn into a Vector\\r            Vector(t.points)\\r          }</th>\n",
       "      <td>1</td>\n",
       "    </tr>\n",
       "    <tr>\n",
       "      <th>diffV.asMultiLine.foreach(ln =&gt; {\\r          println(\"ln \" + ln)\\r          ln.vertices.foreach(pt =&gt;{\\r            println(\"pt \" + pt + \" vert \" + vert)\\r          })\\r        } )</th>\n",
       "      <td>1</td>\n",
       "    </tr>\n",
       "    <tr>\n",
       "      <th>____              __\\r     / __/__  ___ _____/ /__\\r    _\\ \\/ _ \\/ _ `/ __/  '_/\\r   /___/ .__/\\_,_/_/ /_/\\_\\   version 1.2.1\\r      /_/\\r\\r</th>\n",
       "      <td>1</td>\n",
       "    </tr>\n",
       "    <tr>\n",
       "      <th>for ( diffV &lt;- diffLeft){\\r       diffV.asMultiLine.foreach(ln =&gt; {\\r          println(\"ln \" + ln)\\r          ln.vertices.foreach(pt =&gt;{\\r            println(\"pt \" + pt + \" vert \" + vert)\\r          })\\r        } )\\r        }</th>\n",
       "      <td>1</td>\n",
       "    </tr>\n",
       "    <tr>\n",
       "      <th>&lt;dependency&gt;\\r      &lt;groupId&gt;com.azavea.geotrellis&lt;/groupId&gt;\\r      &lt;artifactId&gt;geotrellis-spark_2.10&lt;/artifactId&gt;\\r      &lt;version&gt;0.10.0-6c567b2&lt;/version&gt;\\r      &lt;type&gt;jar&lt;/type&gt;\\r    &lt;/dependency&gt;\\r    &lt;dependency&gt;\\r     &lt;groupId&gt;com.azavea.geotrellis&lt;/groupId&gt;\\r     &lt;artifactId&gt;geotrellis-spark-etl_2.10&lt;/artifactId&gt;\\r     &lt;version&gt;0.10.0-6c567b2&lt;/version&gt;\\r     &lt;type&gt;jar&lt;/type&gt;\\r    &lt;/dependency&gt;\\r    &lt;dependency&gt;\\r     &lt;groupId&gt;org.rogach&lt;/groupId&gt;\\r     &lt;artifactId&gt;scallop_2.10&lt;/artifactId&gt;\\r     &lt;version&gt;0.9.5&lt;/version&gt;\\r    &lt;/dependency&gt;</th>\n",
       "      <td>1</td>\n",
       "    </tr>\n",
       "    <tr>\n",
       "      <th>val diffLeft  = for (p &lt;- left.as[Polygon]; l &lt;- rightLine.as[Line]) yield p &amp; l\\r how would I get the coordinates of diffLeft ?</th>\n",
       "      <td>1</td>\n",
       "    </tr>\n",
       "    <tr>\n",
       "      <th>val mapped = tiles.map(t =&gt; {\\r       val key = t._1 + \"_\" + findColumn(t._2).toString()\\r      (key,new tileInfo(t,256,256))\\r    })\\r    val leftRight = mapped.reduceByKey((a,b) =&gt; {</th>\n",
       "      <td>1</td>\n",
       "    </tr>\n",
       "    <tr>\n",
       "      <th>val prec = new PrecisionModel(PrecisionModel.FLOATING_SINGLE)\\r    val polyNow = GeometryPrecisionReducer.reduce(poly.jtsGeom,prec)\\r    val transposePolyNow = GeometryPrecisionReducer.reduce(transposePoly.jtsGeom,prec)\\r    val union = polyNow.union(transposePolyNow)</th>\n",
       "      <td>1</td>\n",
       "    </tr>\n",
       "    <tr>\n",
       "      <th>\"org.apache.spark\"  %% \"spark-core\"    % \"2.0.1\",\\r    \"org.apache.spark\" %% \"spark-sql\" % \"2.0.1\",\\r    \"io.spray\"          %% \"spray-routing\" % \"1.3.3\",\\r    \"io.spray\"          %% \"spray-can\"     % \"1.3.3\",\\r    \"org.apache.hadoop\"  % \"hadoop-client\" % \"2.6.1\",\\r    \"org.locationtech.geotrellis\" %% \"geotrellis-spark\" % Version.gtVersion,\\r    \"com.google.guava\" % \"guava\" % \"16.0.1\"</th>\n",
       "      <td>1</td>\n",
       "    </tr>\n",
       "    <tr>\n",
       "      <th>I have written in some code that reads in GeoTiffs from S3 or HDFS.  I re-project to WebMercator \\rcreate a Rastersouce and then call the  ElevationRasterSourceMethodExtensions I desire for example slope or hillside. I collect all the resulting tiles and projected extents and create an RDD that I pass to a tiling routing that creates z/x/y pyramids.  Based on the Geotrellis landsat demo.  I have 2 links: One for the [Slope result] (https://drive.google.com/file/d/0B1YZbN2gCsmSRVlMai1lY0xYeGM/view)\\rand the second to the [Hillshade result](https://drive.google.com/file/d/0B1YZbN2gCsmSRDNYZm03N3pRWGM/view)\\rNotice in the hillside example I am getting white borders on the tile results.  Has anyone seen this before? Example code is below:\\r\\r```\\r {\\r  ...\\r    // Returns SingleBandGeoTiff\\r    val gtIn = SingleBandGeoTiff(bytesToUse)\\r\\r    // Returns a ProjectedRaster\\r    val projectedRaster = gtIn.projectedRaster\\r\\r    val ProjectedRaster(Raster(tile, extent), crs) = projectedRaster.reproject(WebMercator)\\r\\r    // Returns SingleBandGeoTiff\\r    val reprojGeoTiff = SingleBandGeoTiff(tile, extent, crs, gtIn.tags, gtIn.options)\\r\\r    // Move from tile to RasterSource\\r    val theRS = RasterSource( reprojGeoTiff, extent )\\r\\r    // Call operation to perform\\r    val opRS = opsFunc( theRS )\\r\\r    // Write out product to go to RDD\\r    val lclTile = opRS.get\\r    val lclExtent = opRS.rasterExtent.get.extent\\r    val projExt = new ProjectedExtent( lclExtent, crs)\\r    val gtSlope = GeoTiff(lclTile, lclExtent, crs)\\r\\r    val newEntry = (projExt, lclTile)\\r\\r    tileList += newEntry\\r\\r  }\\r\\r}\\r\\rval tiles = sc.parallelize( tileList )\\r\\r// Pass on to tiling code\\r...\\r\\rmy Elevation Ops Methods\\r\\rdef hillShade( inRasterSource: RasterSource ) :RasterSource = {\\r\\r\\r  val outRS = ElevationRasterSourceMethodExtensions(inRasterSource).hillshade(90.0, 40.0, 1.0)\\r\\r  outRS\\r\\r}\\r\\rhttps://drive.google.com/file/d/0B1YZbN2gCsmSRVlMai1lY0xYeGM/view\\rdef slope( inRasterSource: RasterSource ) :RasterSource = {\\r\\r  val slopeRS = ElevationRasterSourceMethodExtensions( inRasterSource ).slope\\r\\r  slopeRS\\r\\r}\\r\\r```\\r\\r\\r</th>\n",
       "      <td>1</td>\n",
       "    </tr>\n",
       "    <tr>\n",
       "      <th>...</th>\n",
       "      <td>...</td>\n",
       "    </tr>\n",
       "    <tr>\n",
       "      <th>yup! we did DL all the data at block level so i do have it to share too. i can look later</th>\n",
       "      <td>1</td>\n",
       "    </tr>\n",
       "    <tr>\n",
       "      <th>yup, I've looked there. but I was not sure whether Scala had type erasure and the singleband plugin could be returned instead of /along with the multiband plugin</th>\n",
       "      <td>1</td>\n",
       "    </tr>\n",
       "    <tr>\n",
       "      <th>yup, Sunday and Monday</th>\n",
       "      <td>1</td>\n",
       "    </tr>\n",
       "    <tr>\n",
       "      <th>yup, it_��ll even annoy you with emails if your mentioned</th>\n",
       "      <td>1</td>\n",
       "    </tr>\n",
       "    <tr>\n",
       "      <th>yup, spark and hadoop move fast_�_I can_��t wait until we have the hundreds of contributors, maybe we_��d be able to put out a release at a decent pace!</th>\n",
       "      <td>1</td>\n",
       "    </tr>\n",
       "    <tr>\n",
       "      <th>yup, that_��s the new _��recommended standard_��, it_��s less restrictive than old sbt and less scary than Build.scala.</th>\n",
       "      <td>1</td>\n",
       "    </tr>\n",
       "    <tr>\n",
       "      <th>yup, your good to go. If you were to join by keys, those tiles would align</th>\n",
       "      <td>1</td>\n",
       "    </tr>\n",
       "    <tr>\n",
       "      <th>yup.  the preview release looked great for tasks, but not so good for services w/o having to do a bunch of runtime configuration to ensure that ports are mapped and so on</th>\n",
       "      <td>1</td>\n",
       "    </tr>\n",
       "    <tr>\n",
       "      <th>yup. And Erik, who_��s one of the original two authors of GeoTrellis, and the guy who started/maintains Spire</th>\n",
       "      <td>1</td>\n",
       "    </tr>\n",
       "    <tr>\n",
       "      <th>yup. I caught that, we_��re going to change that to `tileReader`</th>\n",
       "      <td>1</td>\n",
       "    </tr>\n",
       "    <tr>\n",
       "      <th>yup. I know I_��ve been tripped up on that in the past.</th>\n",
       "      <td>1</td>\n",
       "    </tr>\n",
       "    <tr>\n",
       "      <th>yup. The tiff tag 4-bytes values-in-an-offset strikes again</th>\n",
       "      <td>1</td>\n",
       "    </tr>\n",
       "    <tr>\n",
       "      <th>yup. we have plans on doing a spark-notebook integration. Once this release is out it_��s on our plate to focus some attention on an integration. But if you wanted to spearhead that, that would really help</th>\n",
       "      <td>1</td>\n",
       "    </tr>\n",
       "    <tr>\n",
       "      <th>yup_�_.same problems as Byte</th>\n",
       "      <td>1</td>\n",
       "    </tr>\n",
       "    <tr>\n",
       "      <th>z component of extent?</th>\n",
       "      <td>1</td>\n",
       "    </tr>\n",
       "    <tr>\n",
       "      <th>z/x/y</th>\n",
       "      <td>1</td>\n",
       "    </tr>\n",
       "    <tr>\n",
       "      <th>zookeeper has:\\r\\r```\\rWARN  [NIOServerCxn.Factory:0.0.0.0/0.0.0.0:2181:NIOServerCnxn@357] - caught end of stream exception\\rEndOfStreamException: Unable to read additional data from client sessionid 0x0, likely client has closed socket\\r    at org.apache.zookeeper.server.NIOServerCnxn.doIO(NIOServerCnxn.java:228)\\r    at org.apache.zookeeper.server.NIOServerCnxnFactory.run(NIOServerCnxnFactory.java:208)\\r    at java.lang.Thread.run(Thread.java:745)\\r```</th>\n",
       "      <td>1</td>\n",
       "    </tr>\n",
       "    <tr>\n",
       "      <th>zookeepers didnot started</th>\n",
       "      <td>1</td>\n",
       "    </tr>\n",
       "    <tr>\n",
       "      <th>zoom level</th>\n",
       "      <td>1</td>\n",
       "    </tr>\n",
       "    <tr>\n",
       "      <th>zoom level is calculated 14 for this image</th>\n",
       "      <td>1</td>\n",
       "    </tr>\n",
       "    <tr>\n",
       "      <th>zoom should be too</th>\n",
       "      <td>1</td>\n",
       "    </tr>\n",
       "    <tr>\n",
       "      <th>zoom, col, row</th>\n",
       "      <td>1</td>\n",
       "    </tr>\n",
       "    <tr>\n",
       "      <th>{\\r    \"backend-profiles\": [\\r        {\\r      \\t    \"name\": \"accumulo-local\",\\r      \\t    \"type\": \"accumulo\",\\r            \"zookeepers\": \"localhost\",\\r            \"instance\": \"accumulo\",\\r            \"user\": \"root\",\\r            \"password\": \"GisPwd\"\\r        }\\r    ]\\r}\\r</th>\n",
       "      <td>1</td>\n",
       "    </tr>\n",
       "    <tr>\n",
       "      <th>{\"crs\": \"EPSG:3857\", \"pyramid\": true, \"tileSize\": 256, \"reprojectMethod\": \"buffered\", \"keyIndexMethod\": {\"type\": \"zorder\"}, \"layoutScheme\": \"zoomed\", \"resampleMethod\": \"cubic-spline\", \"backend\": {\"path\": \"s3://kitware-geotrellis-demo/catalog\", \"type\": \"s3\"}} this is my output file</th>\n",
       "      <td>1</td>\n",
       "    </tr>\n",
       "    <tr>\n",
       "      <th>}</th>\n",
       "      <td>2</td>\n",
       "    </tr>\n",
       "    <tr>\n",
       "      <th>~ 100000ms longer for a landsat tile</th>\n",
       "      <td>1</td>\n",
       "    </tr>\n",
       "    <tr>\n",
       "      <th>~test-only *Predictor* should tell you if it works</th>\n",
       "      <td>1</td>\n",
       "    </tr>\n",
       "    <tr>\n",
       "      <th>~~`val accumulo = AccumuloInstance()`</th>\n",
       "      <td>1</td>\n",
       "    </tr>\n",
       "    <tr>\n",
       "      <th>������_�Ԣ�_��Ԃ�__��_�</th>\n",
       "      <td>1</td>\n",
       "    </tr>\n",
       "    <tr>\n",
       "      <th>������</th>\n",
       "      <td>1</td>\n",
       "    </tr>\n",
       "  </tbody>\n",
       "</table>\n",
       "<p>19946 rows × 1 columns</p>\n",
       "</div>"
      ],
      "text/plain": [
       "                                                    count\n",
       "text                                                     \n",
       "\\t`/data/geotrellis/proj4/src/main/java/org/osg...      1\n",
       "\\r\\r\\r\\rI'm trying out the new Multiband spark-...      1\n",
       "\\r> PhotometricInterpretation = 3 (Palette Colo...      1\n",
       "\\r@lossyrob  I borrowed heavily from your Slipp...      1\n",
       "\\r@lossyrob I ingest landsat data with this cod...      1\n",
       "\\r@schBen this path can be local or hdfs; `Laye...      1\n",
       "\\rHow Do I create  server Assembly?                     1\n",
       "\\rI ran the geotrellis install and Accumulo, Ha...      1\n",
       "\\rI updated to RC3 and I got a tricky one: `Can...      1\n",
       "\\rI want to display geotiff files while using s...      1\n",
       "\\rThanks, making progess I think.                       1\n",
       "\\rWhat I mean, only come to my mind solutions, ...      1\n",
       "\\r```\\rDriver: GTiff/GeoTIFF\\rFiles: RAD_NL25_P...      1\n",
       "\\r```\\rimport geotrellis.raster.Tile\\rimport ge...      1\n",
       "\\r```scala\\rnew SparkConf()\\r      .setMaster(a...      1\n",
       "\\r```scala\\rval tile = ArrayTile.empty(UShortCe...      1\n",
       "\\rbut it fails again:\\r```\\rException in thread...      1\n",
       "\\rhi, i need some demo about  how to deal with ...      1\n",
       "\\rhow do you read back tiff tiles stored in had...      1\n",
       "                                                        1\n",
       "          case t: MultiPoint => {      // only ...      1\n",
       "        diffV.asMultiLine.foreach(ln => {\\r    ...      1\n",
       "      ____              __\\r     / __/__  ___ _...      1\n",
       "      for ( diffV <- diffLeft){\\r       diffV.a...      1\n",
       "    <dependency>\\r      <groupId>com.azavea.geo...      1\n",
       "    val diffLeft  = for (p <- left.as[Polygon];...      1\n",
       "    val mapped = tiles.map(t => {\\r       val k...      1\n",
       "    val prec = new PrecisionModel(PrecisionMode...      1\n",
       "  \"org.apache.spark\"  %% \"spark-core\"    % \"2.0...      1\n",
       "  I have written in some code that reads in Geo...      1\n",
       "...                                                   ...\n",
       "yup! we did DL all the data at block level so i...      1\n",
       "yup, I've looked there. but I was not sure whet...      1\n",
       "yup, Sunday and Monday                                  1\n",
       "yup, it_��ll even annoy you with emails if your...      1\n",
       "yup, spark and hadoop move fast_�_I can_��t wai...      1\n",
       "yup, that_��s the new _��recommended standard_�...      1\n",
       "yup, your good to go. If you were to join by ke...      1\n",
       "yup.  the preview release looked great for task...      1\n",
       "yup. And Erik, who_��s one of the original two ...      1\n",
       "yup. I caught that, we_��re going to change tha...      1\n",
       "yup. I know I_��ve been tripped up on that in t...      1\n",
       "yup. The tiff tag 4-bytes values-in-an-offset s...      1\n",
       "yup. we have plans on doing a spark-notebook in...      1\n",
       "yup_�_.same problems as Byte                            1\n",
       "z component of extent?                                  1\n",
       "z/x/y                                                   1\n",
       "zookeeper has:\\r\\r```\\rWARN  [NIOServerCxn.Fact...      1\n",
       "zookeepers didnot started                               1\n",
       "zoom level                                              1\n",
       "zoom level is calculated 14 for this image              1\n",
       "zoom should be too                                      1\n",
       "zoom, col, row                                          1\n",
       "{\\r    \"backend-profiles\": [\\r        {\\r      ...      1\n",
       "{\"crs\": \"EPSG:3857\", \"pyramid\": true, \"tileSize...      1\n",
       "}                                                       2\n",
       "~ 100000ms longer for a landsat tile                    1\n",
       "~test-only *Predictor* should tell you if it wo...      1\n",
       "~~`val accumulo = AccumuloInstance()`                   1\n",
       "������_�Ԣ�_��Ԃ�__��_�                                   1\n",
       "������                                                  1\n",
       "\n",
       "[19946 rows x 1 columns]"
      ]
     },
     "execution_count": 23,
     "metadata": {},
     "output_type": "execute_result"
    }
   ],
   "source": [
    "count"
   ]
  },
  {
   "cell_type": "code",
   "execution_count": null,
   "metadata": {
    "collapsed": true
   },
   "outputs": [],
   "source": []
  }
 ],
 "metadata": {
  "kernelspec": {
   "display_name": "Python 2",
   "language": "python",
   "name": "python2"
  },
  "language_info": {
   "codemirror_mode": {
    "name": "ipython",
    "version": 2
   },
   "file_extension": ".py",
   "mimetype": "text/x-python",
   "name": "python",
   "nbconvert_exporter": "python",
   "pygments_lexer": "ipython2",
   "version": "2.7.12"
  }
 },
 "nbformat": 4,
 "nbformat_minor": 1
}
